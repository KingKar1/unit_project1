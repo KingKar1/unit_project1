{
 "cells": [
  {
   "cell_type": "markdown",
   "metadata": {},
   "source": [
    "<img src=\"http://imgur.com/1ZcRyrc.png\" style=\"float: left; margin: 20px; height: 55px\">\n",
    "\n",
    "# Project 1: Python Coding Exercises\n",
    "\n",
    "_Authors: Joseph Nelson (DC) _\n",
    "\n",
    "---"
   ]
  },
  {
   "cell_type": "markdown",
   "metadata": {},
   "source": [
    "The following code challenges are drawn from common exercises used in technical interviews.\n",
    "\n",
    "Note that there may be several ways to approach each challenge!"
   ]
  },
  {
   "cell_type": "markdown",
   "metadata": {},
   "source": [
    "### Challenge 1: Largest Palindrome\n",
    "A palindromic number reads the same both ways. For example, 1234321 is a palindrome. The largest palindrome made from the product of two two-digit numbers is 9009 = 91 × 99. Find the largest palindrome made from the product of two three-digit numbers."
   ]
  },
  {
   "cell_type": "code",
   "execution_count": 29,
   "metadata": {},
   "outputs": [
    {
     "name": "stdout",
     "output_type": "stream",
     "text": [
      "906609\n"
     ]
    }
   ],
   "source": [
    "def reverse(n): #defining a function to cast to be able to reverse an integer\n",
    "    return int(str(n)[::-1])\n",
    "\n",
    "list1 = list(range(100,1000)) #creating list 1\n",
    "list2 = list(range(100,1000)) #creating list 2\n",
    "palindrome_list = [] #creating an empty list to put the palindrome into\n",
    "for i in list1: #running a nested loop to run through every single combination of \n",
    "    for j in list2:\n",
    "        product = i*j #gets the product of one number from list1 and one from list2\n",
    "        rev_product = reverse(product) #calls upon the function to reverse the product of the two numbers\n",
    "        if(product == rev_product): #catches palindromes\n",
    "            palindrome_list.append(product) #adds the palindromes to a palindrome specific list\n",
    "            #print(i,j) #can print the two numbers that make a palindrome\n",
    "     \n",
    "#print(palindrome_list) #can print the entire palindrome list\n",
    "print(max(palindrome_list)) #prints the maximum number from the palindrome list"
   ]
  },
  {
   "cell_type": "markdown",
   "metadata": {},
   "source": [
    "\n",
    "### Challenge 2: Summation of Primes\n",
    "The sum of the primes below 10 is 2 + 3 + 5 + 7 = 17. Find the sum of all the primes below 2,000."
   ]
  },
  {
   "cell_type": "code",
   "execution_count": 17,
   "metadata": {},
   "outputs": [
    {
     "data": {
      "text/plain": [
       "667337"
      ]
     },
     "execution_count": 17,
     "metadata": {},
     "output_type": "execute_result"
    }
   ],
   "source": [
    "def sum_all_primes(max): #defining a function using one parameter, the max number in my range\n",
    "    sum = 0 #initialize the summation of all the primes\n",
    "    numbers = list(range(2,max)) #initialize my list starting from 2 (b/c all primes are greather than 1) until the max\n",
    "    for i in numbers: #running through my list\n",
    "        if(i==2 or i==3): #catches 2 & 3 because they are both prime\n",
    "            sum = sum+i #sums 2 & 3\n",
    "            #print(i) #giving myself the ability to look at the prime numbers\n",
    "        if(i%2==0 or i%3==0): #removes all other non-prime numbers from my list\n",
    "            continue \n",
    "        else: #\n",
    "            sum = sum+i #sums all primes above 2 & 3\n",
    "            #print(i) #giving myself the ability to look at the prime numbers\n",
    "    return sum #must return the sum to be able to run the function\n",
    "sum_all_primes(2000)"
   ]
  },
  {
   "cell_type": "markdown",
   "metadata": {},
   "source": [
    "### Challenge 3: Multiples of 3 and 5\n",
    "If we list all of the natural numbers below 10 that are multiples of 3 or 5, we get 3, 5, 6, and 9. The sum of these multiples is 23. Find the sum of all the multiples of 3 and 5 below 1,000."
   ]
  },
  {
   "cell_type": "code",
   "execution_count": 22,
   "metadata": {},
   "outputs": [
    {
     "data": {
      "text/plain": [
       "233168"
      ]
     },
     "execution_count": 22,
     "metadata": {},
     "output_type": "execute_result"
    }
   ],
   "source": [
    "def natural_numbers(max): #defines a function with a single parameter\n",
    "    sum = 0 #initializes a variable called sum\n",
    "    nat_list = list(range(1,max)) #creates a list from 1 to the specified parameter in the defined function\n",
    "    for i in nat_list: #running through the nat_list\n",
    "        if(i%3==0 or i%5==0): #catches numbers that are divisible by 3 or 5\n",
    "            #print(i) #gives the ability to view the numbers that are divisible by 3 or 5\n",
    "            sum = sum+i #adds the number that is divisible by 3 or 5 to the total summation\n",
    "    return sum\n",
    "natural_numbers(1000) #calls upon the function that will run through 1,1000 picking out the numbers divisible by 3 or 5\n",
    "                      #then summing them all up"
   ]
  },
  {
   "cell_type": "markdown",
   "metadata": {},
   "source": [
    "### Challenge 4: String Compressor\n",
    "Implement a method to perform basic string compression using the counts of repeated characters. (This is called run-length encoding.) For example, the string \"aabcccccaaa\" would become a2b1c5a3. If the “compressed” string would not become smaller than the original string, your method should return the original string. You can assume the string has only uppercase and lowercase letters (a–z). Specify whether your solution is case sensitive or case insensitive and what you would need to change to make it the other."
   ]
  },
  {
   "cell_type": "markdown",
   "metadata": {},
   "source": [
    "## My function is case insensitive"
   ]
  },
  {
   "cell_type": "code",
   "execution_count": 44,
   "metadata": {},
   "outputs": [
    {
     "data": {
      "text/plain": [
       "'a2b1c5a3g2F1'"
      ]
     },
     "execution_count": 44,
     "metadata": {},
     "output_type": "execute_result"
    }
   ],
   "source": [
    "def string_compression(string):\n",
    "    counter = 1 #initialize the counter to be 0\n",
    "    compressed_string = \"\" #initialize an empty string to be the compressed string\n",
    "    compressed_string += string[0] #adds in the first character in parameter string\n",
    "    for i in range(0,len(string)-1): #iterate through the string parameter until 1 from the end\n",
    "        if(string[i] == string[i+1]): #compares character number i to character i+1\n",
    "            counter += 1 #counting the number of characters that are alike\n",
    "        else: #runs this loop if the comparison above is False\n",
    "            compressed_string += str(counter) #adds the counter number of characters to the compressed string\n",
    "            compressed_string += string[i+1] #adds the next character in string to compressed string\n",
    "            counter = 1 #resetting the counter\n",
    "    #catches the last grouping of letters whether that be 1 or more\n",
    "    if(counter>=1): \n",
    "        compressed_string += str(counter) #\n",
    "    #compares the length of the original string to the compressed string and prints the original string\n",
    "    #if the compressed string length is longer\n",
    "    if(len(compressed_string)>len(string)):\n",
    "        print(string)\n",
    "    else:\n",
    "        return compressed_string\n",
    "string_compression('aabcccccaaaggF') #tested with strings longer and shorter than original string"
   ]
  },
  {
   "cell_type": "markdown",
   "metadata": {},
   "source": [
    "# Bonus Challenge: FizzBuzz Extreme\n",
    "Find or develop three different solutions to the following problem, in Python, that are as different from one another as possible. Which one do you prefer? Why? In what ways are the alternative solutions better?\n",
    "\n",
    "Write a program that prints all of the numbers from 1 to 100. For multiples of 3, instead of the number, print \"Fizz;\" for multiples of 5, print \"Buzz.\" For numbers that are multiples of both 3 and 5, print \"FizzBuzz.\""
   ]
  },
  {
   "cell_type": "code",
   "execution_count": 1,
   "metadata": {},
   "outputs": [
    {
     "name": "stdout",
     "output_type": "stream",
     "text": [
      "[1, 2, 3, 4, 5, 6, 7, 8, 9, 10, 11, 12, 13, 14, 15, 16, 17, 18, 19, 20, 21, 22, 23, 24, 25, 26, 27, 28, 29, 30, 31, 32, 33, 34, 35, 36, 37, 38, 39, 40, 41, 42, 43, 44, 45, 46, 47, 48, 49, 50, 51, 52, 53, 54, 55, 56, 57, 58, 59, 60, 61, 62, 63, 64, 65, 66, 67, 68, 69, 70, 71, 72, 73, 74, 75, 76, 77, 78, 79, 80, 81, 82, 83, 84, 85, 86, 87, 88, 89, 90, 91, 92, 93, 94, 95, 96, 97, 98, 99, 100]\n"
     ]
    }
   ],
   "source": [
    "new_list = list(range(1,101))\n",
    "print(new_list)"
   ]
  },
  {
   "cell_type": "code",
   "execution_count": null,
   "metadata": {
    "collapsed": true
   },
   "outputs": [],
   "source": []
  }
 ],
 "metadata": {
  "anaconda-cloud": {},
  "kernelspec": {
   "display_name": "Python 3",
   "language": "python",
   "name": "python3"
  },
  "language_info": {
   "codemirror_mode": {
    "name": "ipython",
    "version": 3
   },
   "file_extension": ".py",
   "mimetype": "text/x-python",
   "name": "python",
   "nbconvert_exporter": "python",
   "pygments_lexer": "ipython3",
   "version": "3.6.3"
  }
 },
 "nbformat": 4,
 "nbformat_minor": 2
}
